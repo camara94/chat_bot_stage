{
 "cells": [
  {
   "cell_type": "code",
   "execution_count": 1,
   "id": "6d4243dc",
   "metadata": {},
   "outputs": [],
   "source": [
    "import spacy"
   ]
  },
  {
   "cell_type": "code",
   "execution_count": 2,
   "id": "3b2b64fc",
   "metadata": {},
   "outputs": [],
   "source": [
    "nlp = spacy.load(\"fr_core_news_sm\")"
   ]
  },
  {
   "cell_type": "code",
   "execution_count": 22,
   "id": "4ee8e321",
   "metadata": {},
   "outputs": [],
   "source": [
    "txt = \"Bonjour je m'appelle Christine, j'ai besoin d'une pomade à la creme, j'habite à djerba\""
   ]
  },
  {
   "cell_type": "code",
   "execution_count": 23,
   "id": "29f36bfe",
   "metadata": {},
   "outputs": [
    {
     "name": "stdout",
     "output_type": "stream",
     "text": [
      "Bonjour PROPN ROOT\n",
      "je PRON nsubj\n",
      "m' PRON expl:comp\n",
      "appelle VERB ROOT\n",
      "Christine PROPN obj\n",
      ", PUNCT punct\n",
      "j' PRON nsubj\n",
      "ai VERB conj\n",
      "besoin NOUN obj\n",
      "d' ADP case\n",
      "une DET det\n",
      "pomade NOUN obl:arg\n",
      "à ADP case\n",
      "la DET det\n",
      "creme NOUN obl:arg\n"
     ]
    }
   ],
   "source": [
    "for token in nlp(txt):\n",
    "    print(token.text, token.pos_, token.dep_)"
   ]
  },
  {
   "cell_type": "code",
   "execution_count": 8,
   "id": "373acf5d",
   "metadata": {},
   "outputs": [],
   "source": [
    "from spacy.lang.fr.stop_words import STOP_WORDS"
   ]
  },
  {
   "cell_type": "code",
   "execution_count": 25,
   "id": "fd9d6630",
   "metadata": {},
   "outputs": [
    {
     "data": {
      "text/plain": [
       "507"
      ]
     },
     "execution_count": 25,
     "metadata": {},
     "output_type": "execute_result"
    }
   ],
   "source": [
    "stw = STOP_WORDS\n",
    "len(stw)"
   ]
  },
  {
   "cell_type": "code",
   "execution_count": 36,
   "id": "edfe7926",
   "metadata": {},
   "outputs": [
    {
     "data": {
      "text/plain": [
       "['Bonjour',\n",
       " 'je',\n",
       " \"m'\",\n",
       " 'appelle',\n",
       " 'Christine',\n",
       " ',',\n",
       " \"j'\",\n",
       " 'ai',\n",
       " 'besoin',\n",
       " \"d'\",\n",
       " 'une',\n",
       " 'pomade',\n",
       " 'à',\n",
       " 'la',\n",
       " 'creme',\n",
       " ',',\n",
       " \"j'\",\n",
       " 'habite',\n",
       " 'à',\n",
       " 'Conakry']"
      ]
     },
     "execution_count": 36,
     "metadata": {},
     "output_type": "execute_result"
    }
   ],
   "source": [
    "token = [i.text for i in nlp(txt)] \n",
    "token"
   ]
  },
  {
   "cell_type": "code",
   "execution_count": 35,
   "id": "fc8ee9d4",
   "metadata": {},
   "outputs": [
    {
     "name": "stdout",
     "output_type": "stream",
     "text": [
      "Bonjour\n",
      "appelle\n",
      "Christine\n",
      ",\n",
      "besoin\n",
      "pomade\n",
      "creme\n"
     ]
    }
   ],
   "source": [
    "texte =  \"\"\n",
    "for t in token:\n",
    "    if t not in stw:\n",
    "        print(t)\n",
    "        "
   ]
  },
  {
   "cell_type": "code",
   "execution_count": 43,
   "id": "1a4438fe",
   "metadata": {},
   "outputs": [
    {
     "name": "stdout",
     "output_type": "stream",
     "text": [
      "Bonjour LOC\n",
      "Christine MISC\n",
      "Paris LOC\n"
     ]
    }
   ],
   "source": [
    "txt = \"Bonjour je m'appelle Christine, j'ai besoin d'une pomade à la creme, j'habite aux Paris\"\n",
    "doc=nlp(txt)\n",
    "for i in doc.ents:\n",
    "    print(i.text, i.label_)"
   ]
  },
  {
   "cell_type": "code",
   "execution_count": 50,
   "id": "08e274b8",
   "metadata": {},
   "outputs": [
    {
     "name": "stdout",
     "output_type": "stream",
     "text": [
      "es => es\n",
      ", => ,\n",
      "suis => être\n"
     ]
    }
   ],
   "source": [
    "racine= \"es,suis\"\n",
    "doc=nlp(racine)\n",
    "for r in doc:\n",
    "    print(r.text, '=>', r.lemma_)"
   ]
  },
  {
   "cell_type": "code",
   "execution_count": null,
   "id": "a2326905",
   "metadata": {},
   "outputs": [],
   "source": []
  }
 ],
 "metadata": {
  "kernelspec": {
   "display_name": "Python 3",
   "language": "python",
   "name": "python3"
  },
  "language_info": {
   "codemirror_mode": {
    "name": "ipython",
    "version": 3
   },
   "file_extension": ".py",
   "mimetype": "text/x-python",
   "name": "python",
   "nbconvert_exporter": "python",
   "pygments_lexer": "ipython3",
   "version": "3.8.8"
  }
 },
 "nbformat": 4,
 "nbformat_minor": 5
}
